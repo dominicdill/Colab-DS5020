{
  "nbformat": 4,
  "nbformat_minor": 0,
  "metadata": {
    "colab": {
      "provenance": [],
      "collapsed_sections": [],
      "include_colab_link": true
    },
    "kernelspec": {
      "name": "python3",
      "display_name": "Python 3"
    },
    "language_info": {
      "name": "python"
    }
  },
  "cells": [
    {
      "cell_type": "markdown",
      "metadata": {
        "id": "view-in-github",
        "colab_type": "text"
      },
      "source": [
        "<a href=\"https://colab.research.google.com/github/dominicdill/Colab-DS5020-day-1/blob/main/Copy_of_01_class_notes.ipynb\" target=\"_parent\"><img src=\"https://colab.research.google.com/assets/colab-badge.svg\" alt=\"Open In Colab\"/></a>"
      ]
    },
    {
      "cell_type": "markdown",
      "source": [
        "# 01 Class Notes\n",
        "\n",
        "We'll start working on this next week."
      ],
      "metadata": {
        "id": "gLDWi1YreqAn"
      }
    },
    {
      "cell_type": "markdown",
      "source": [
        "## Exercise #1\n",
        "\n",
        "* Write a function that reads a generic CSV file from your local filesystem.\n",
        "  * The function should return a list of dictionary objects.\n",
        "  * Assume the first row of the CSV file represents the dictionary keys.\n",
        "  * Each row after the first represents a set of dictionary values, with one dictionary per row.\n",
        "  * Use that function to read a copy of \"penguins.csv\" that you get onto your filesystem from [this github repo](https://github.com/allisonhorst/palmerpenguins/tree/master/inst/extdata).\n",
        "* Use only Python's [built-in functions](https://docs.python.org/3/library/functions.html),\n",
        "[I/O methods](https://docs.python.org/3/tutorial/inputoutput.html)\n",
        "and [string methods](https://docs.python.org/3/library/stdtypes.html)"
      ],
      "metadata": {
        "id": "2ZcgrGxJiect"
      }
    },
    {
      "cell_type": "code",
      "source": [
        "!curl -O \"https://raw.githubusercontent.com/allisonhorst/palmerpenguins/main/inst/extdata/penguins.csv\""
      ],
      "metadata": {
        "colab": {
          "base_uri": "https://localhost:8080/"
        },
        "id": "h5jViS0WkQLH",
        "outputId": "8b4ad949-d4cf-47e7-9a20-6eb0085909bb"
      },
      "execution_count": null,
      "outputs": [
        {
          "output_type": "stream",
          "name": "stdout",
          "text": [
            "  % Total    % Received % Xferd  Average Speed   Time    Time     Time  Current\n",
            "                                 Dload  Upload   Total   Spent    Left  Speed\n",
            "\r  0     0    0     0    0     0      0      0 --:--:-- --:--:-- --:--:--     0\r100 15241  100 15241    0     0   195k      0 --:--:-- --:--:-- --:--:--  195k\n"
          ]
        }
      ]
    },
    {
      "cell_type": "code",
      "source": [
        "penguinlist=[]\n",
        "with open('penguins.csv') as csvfile:                                           #does the while loop negate the need for a close statement?\n",
        "  csvkeys = next(csvfile)                                                       #gets the first row\n",
        "  keylist=list(csvkeys.rstrip('\\n').split(\",\"))                                 #turns key string into a key list, splitting up the string on commas, and removes the trailing \\n\n",
        "  for row in csvfile:                                                           #iterate through the rest of the rows for value pairs with the key list\n",
        "    penguinlist.append(dict(zip(keylist,list(row.rstrip('\\n').split(\",\")))))    #create a dictionary by zipping together values of keylist with values in the newly created list from row x, then append it to a list\n"
      ],
      "metadata": {
        "id": "I9WMu45cy1jr"
      },
      "execution_count": null,
      "outputs": []
    },
    {
      "cell_type": "code",
      "source": [],
      "metadata": {
        "id": "7Sw0pKso0rN6"
      },
      "execution_count": null,
      "outputs": []
    }
  ]
}